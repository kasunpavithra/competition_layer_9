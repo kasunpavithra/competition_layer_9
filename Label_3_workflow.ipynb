{
 "cells": [
  {
   "cell_type": "code",
   "execution_count": 1,
   "id": "2497bd92",
   "metadata": {},
   "outputs": [],
   "source": [
    "from sklearn.base import BaseEstimator, ClassifierMixin\n",
    "from sklearn.svm import SVC\n",
    "from sklearn.model_selection import RandomizedSearchCV\n",
    "from scipy.stats import uniform\n",
    "from sklearn.preprocessing import StandardScaler\n",
    "from sklearn.decomposition import PCA\n",
    "\n",
    "class MyModel(BaseEstimator, ClassifierMixin):\n",
    "    def __init__(self, C=1.0, kernel='rbf', gamma='scale', n_components=0.97, variance_t=0.001, corr_t= 0.9, random_state=None):\n",
    "        \"\"\"\n",
    "        Initialize the MyModel with hyperparameters.\n",
    "\n",
    "        Parameters:\n",
    "        - C: Regularization parameter\n",
    "        - kernel: Kernel function for the SVM ('linear', 'rbf', 'poly', etc.)\n",
    "        - gamma: Kernel coefficient for 'rbf', 'poly', and 'sigmoid'\n",
    "        - random_state: Seed for random number generation\n",
    "        \"\"\"\n",
    "        self.C = C\n",
    "        self.kernel = kernel\n",
    "        self.gamma = gamma\n",
    "        self.random_state = random_state\n",
    "        self.n_components = n_components\n",
    "        self.variance_t = variance_t\n",
    "        self.corr_t = corr_t\n",
    "        self.model = None\n",
    "        self.drop = None\n",
    "        self.sscaler = None,\n",
    "        self.pcac = None\n",
    "\n",
    "    def fit(self, x_train, y_train):\n",
    "        \"\"\"\n",
    "        Fit the SVM model to the training data.\n",
    "\n",
    "        Parameters:\n",
    "        - X: Training data features\n",
    "        - y: Target labels\n",
    "        \"\"\"\n",
    "        \n",
    "        #using variance threshold\n",
    "        self.drop = self.variance_treshould_invf(x_train)\n",
    "        \n",
    "        vx_train = x_train.drop(columns=self.drop,axis=1)\n",
    "        \n",
    "        # using correlation\n",
    "        next_drop = self.correlation(vx_train)\n",
    "        self.drop = self.drop + list(next_drop)\n",
    "        \n",
    "        cvx_train = vx_train.drop(columns=next_drop,axis=1)\n",
    "        \n",
    "        self.sscaler = StandardScaler()\n",
    "\n",
    "        # fit the scaler\n",
    "        scvx_train = pd.DataFrame(self.sscaler.fit_transform(cvx_train), columns=cvx_train.columns)\n",
    "        \n",
    "        # define the pca\n",
    "        self.pcac = PCA(n_components= self.n_components, svd_solver=\"full\")\n",
    "\n",
    "        pscvx_train = self.pcac.fit_transform(scvx_train)\n",
    "        \n",
    "        \n",
    "        self.model = SVC(C=self.C, kernel=self.kernel, gamma=self.gamma, random_state=self.random_state)\n",
    "        self.model.fit(pscvx_train, y_train)\n",
    "\n",
    "    def predict(self, X):\n",
    "        \"\"\"\n",
    "        Make predictions using the trained SVM model.\n",
    "\n",
    "        Parameters:\n",
    "        - X: Input data for predictions\n",
    "\n",
    "        Returns:\n",
    "        - Predicted labels\n",
    "        \"\"\"\n",
    "        \n",
    "        if self.model is None:\n",
    "            raise ValueError(\"Model has not been trained. Please call fit() first.\")\n",
    "            \n",
    "        cvx_valid = X.drop(columns=self.drop,axis=1)\n",
    "        \n",
    "        scvx_valid = pd.DataFrame(self.sscaler.transform(cvx_valid), columns=cvx_valid.columns)\n",
    "        \n",
    "        pscvx_valid = self.pcac.transform(scvx_valid)\n",
    "        \n",
    "        return self.model.predict(pscvx_valid)\n",
    "    \n",
    "    def variance_treshould_invf(self, X):\n",
    "        should_drop = []\n",
    "        stds = X.describe().loc[\"std\"]\n",
    "        max_variance = max(stds)**2\n",
    "        for i in range(0, len(stds)):\n",
    "            if (stds[i]**2)< (self.variance_t):\n",
    "                should_drop.append(f\"feature_{i+1}\")\n",
    "        return should_drop\n",
    "    \n",
    "    def correlation(self, X):\n",
    "      col_corr = set()\n",
    "      corr_matrix = X.corr()\n",
    "      for i in range(len(corr_matrix.columns)):\n",
    "        for j in range(i):\n",
    "          if abs(corr_matrix.iloc[i,j])>= self.corr_t:\n",
    "            colname = corr_matrix.columns[i]\n",
    "            col_corr.add(colname)\n",
    "      return col_corr\n",
    "\n",
    "    def getValidationSet(self):\n",
    "        return self.x_valid"
   ]
  },
  {
   "cell_type": "code",
   "execution_count": 2,
   "id": "31ef6c2f",
   "metadata": {},
   "outputs": [],
   "source": [
    "# Importing necessary libraries\n",
    "import pandas as pd"
   ]
  },
  {
   "cell_type": "code",
   "execution_count": 3,
   "id": "c9d47f06",
   "metadata": {},
   "outputs": [],
   "source": [
    "train = pd.read_csv(\"./train.csv\")\n",
    "valid = pd.read_csv(\"./valid.csv\")\n",
    "\n",
    "# drop label_2, label_3 and label_4\n",
    "dropping_labels = [\"label_2\",\"label_3\", \"label_4\"]\n",
    "train.drop(dropping_labels, axis=1, inplace= True)\n",
    "valid.drop(dropping_labels, axis=1, inplace= True)"
   ]
  },
  {
   "cell_type": "code",
   "execution_count": 4,
   "id": "675c57c3",
   "metadata": {},
   "outputs": [
    {
     "data": {
      "text/plain": [
       "Index([], dtype='object')"
      ]
     },
     "execution_count": 4,
     "metadata": {},
     "output_type": "execute_result"
    }
   ],
   "source": [
    "# check whether any missing values in the train set\n",
    "train.columns[train.isnull().any()]"
   ]
  },
  {
   "cell_type": "code",
   "execution_count": 5,
   "id": "e61f61b1",
   "metadata": {},
   "outputs": [],
   "source": [
    "# splitting features and the label\n",
    "x_train = train.drop([\"label_1\"], axis=1)\n",
    "y_train = train[\"label_1\"]\n",
    "x_valid = valid.drop([\"label_1\"], axis=1)\n",
    "y_valid = valid[\"label_1\"]"
   ]
  },
  {
   "cell_type": "code",
   "execution_count": null,
   "id": "9f8c5ee6",
   "metadata": {},
   "outputs": [
    {
     "name": "stdout",
     "output_type": "stream",
     "text": [
      "Accuracy: 0.9453333333333334\n",
      "Fitting 5 folds for each of 10 candidates, totalling 50 fits\n"
     ]
    }
   ],
   "source": [
    "\n",
    "# Create an instance of MyModel\n",
    "my_model = MyModel()\n",
    "\n",
    "# Fit the model to the training data\n",
    "my_model.fit(x_train, y_train)\n",
    "\n",
    "# Make predictions on the test data\n",
    "y_pred = my_model.predict(x_valid)\n",
    "\n",
    "# Print the accuracy of the model\n",
    "accuracy = (y_pred == y_valid).mean()\n",
    "print(f\"Accuracy: {accuracy}\")\n",
    "\n",
    "# Example of using RandomizedSearchCV to tune hyperparameters\n",
    "param_dist = {\n",
    "    'C': uniform(0.1, 10.0),\n",
    "    'kernel': ['linear', 'rbf', 'poly'],\n",
    "    'gamma': ['scale', 'auto'],\n",
    "    'n_components': [0.97, 0.98, 0.99],\n",
    "    'variance_t': [0.002, 0.003],\n",
    "    'corr_t': [0.85,0.9]\n",
    "}\n",
    "\n",
    "random_search = RandomizedSearchCV(\n",
    "    estimator=my_model,\n",
    "    param_distributions=param_dist,\n",
    "    n_iter=10,  # Number of random combinations to try\n",
    "    cv=5,  # Number of cross-validation folds\n",
    "    verbose=2,\n",
    "    random_state=42,  # Set a random seed for reproducibility\n",
    "    n_jobs=-1  # Use all available CPU cores for parallel computation\n",
    ")\n",
    "random_search.fit(x_train, y_train)\n",
    "\n",
    "print(\"Best hyperparameters found by RandomizedSearchCV:\")\n",
    "print(random_search.best_params_)\n"
   ]
  },
  {
   "cell_type": "code",
   "execution_count": null,
   "id": "207a9c39",
   "metadata": {},
   "outputs": [],
   "source": []
  }
 ],
 "metadata": {
  "kernelspec": {
   "display_name": "Python 3 (ipykernel)",
   "language": "python",
   "name": "python3"
  },
  "language_info": {
   "codemirror_mode": {
    "name": "ipython",
    "version": 3
   },
   "file_extension": ".py",
   "mimetype": "text/x-python",
   "name": "python",
   "nbconvert_exporter": "python",
   "pygments_lexer": "ipython3",
   "version": "3.10.9"
  }
 },
 "nbformat": 4,
 "nbformat_minor": 5
}

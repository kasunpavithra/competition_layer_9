{
 "cells": [
  {
   "cell_type": "code",
   "execution_count": 1,
   "id": "a71656f9",
   "metadata": {},
   "outputs": [
    {
     "name": "stdout",
     "output_type": "stream",
     "text": [
      "Requirement already satisfied: kaggle in c:\\users\\manda\\anaconda3\\lib\\site-packages (1.5.16)\n",
      "Requirement already satisfied: requests in c:\\users\\manda\\anaconda3\\lib\\site-packages (from kaggle) (2.28.1)\n",
      "Requirement already satisfied: python-slugify in c:\\users\\manda\\anaconda3\\lib\\site-packages (from kaggle) (5.0.2)\n",
      "Requirement already satisfied: six>=1.10 in c:\\users\\manda\\anaconda3\\lib\\site-packages (from kaggle) (1.16.0)\n",
      "Requirement already satisfied: urllib3 in c:\\users\\manda\\anaconda3\\lib\\site-packages (from kaggle) (1.26.14)\n",
      "Requirement already satisfied: python-dateutil in c:\\users\\manda\\anaconda3\\lib\\site-packages (from kaggle) (2.8.2)\n",
      "Requirement already satisfied: certifi in c:\\users\\manda\\anaconda3\\lib\\site-packages (from kaggle) (2023.7.22)\n",
      "Requirement already satisfied: bleach in c:\\users\\manda\\anaconda3\\lib\\site-packages (from kaggle) (4.1.0)\n",
      "Requirement already satisfied: tqdm in c:\\users\\manda\\anaconda3\\lib\\site-packages (from kaggle) (4.64.1)\n",
      "Requirement already satisfied: packaging in c:\\users\\manda\\anaconda3\\lib\\site-packages (from bleach->kaggle) (22.0)\n",
      "Requirement already satisfied: webencodings in c:\\users\\manda\\anaconda3\\lib\\site-packages (from bleach->kaggle) (0.5.1)\n",
      "Requirement already satisfied: text-unidecode>=1.3 in c:\\users\\manda\\anaconda3\\lib\\site-packages (from python-slugify->kaggle) (1.3)\n",
      "Requirement already satisfied: charset-normalizer<3,>=2 in c:\\users\\manda\\anaconda3\\lib\\site-packages (from requests->kaggle) (2.0.4)\n",
      "Requirement already satisfied: idna<4,>=2.5 in c:\\users\\manda\\anaconda3\\lib\\site-packages (from requests->kaggle) (3.4)\n",
      "Requirement already satisfied: colorama in c:\\users\\manda\\anaconda3\\lib\\site-packages (from tqdm->kaggle) (0.4.6)\n"
     ]
    }
   ],
   "source": [
    "!pip install kaggle"
   ]
  },
  {
   "cell_type": "code",
   "execution_count": 2,
   "id": "6276ce87",
   "metadata": {},
   "outputs": [
    {
     "name": "stdout",
     "output_type": "stream",
     "text": [
      "        1 file(s) copied.\n"
     ]
    }
   ],
   "source": [
    "! copy G:\\Important\\kaggle.json C:\\Users\\manda\\.kaggle\\"
   ]
  },
  {
   "cell_type": "code",
   "execution_count": 3,
   "id": "874d4359",
   "metadata": {},
   "outputs": [
    {
     "name": "stdout",
     "output_type": "stream",
     "text": [
      "speech-based-classification-layer-9.zip: Skipping, found more recently modified local copy (use --force to force download)\n"
     ]
    }
   ],
   "source": [
    "!kaggle competitions download -c speech-based-classification-layer-9"
   ]
  },
  {
   "cell_type": "code",
   "execution_count": 4,
   "id": "f8ba537e",
   "metadata": {},
   "outputs": [
    {
     "name": "stdout",
     "output_type": "stream",
     "text": [
      " Volume in drive C has no label.\n",
      " Volume Serial Number is 5200-3D35\n",
      "\n",
      " Directory of C:\\Users\\manda\\KaggleCompetition\n",
      "\n",
      "09/22/2023  05:30 PM    <DIR>          .\n",
      "09/22/2023  05:30 PM    <DIR>          ..\n",
      "09/22/2023  03:33 PM    <DIR>          .ipynb_checkpoints\n",
      "09/22/2023  05:30 PM            61,680 190438H_label_1_layer_9.ipynb\n",
      "09/03/2023  03:11 PM       213,080,891 speech-based-classification-layer-9.zip\n",
      "09/03/2023  03:10 PM        11,102,887 test.csv\n",
      "09/03/2023  03:10 PM       454,263,141 train.csv\n",
      "09/03/2023  03:11 PM        11,955,497 valid.csv\n",
      "               5 File(s)    690,464,096 bytes\n",
      "               3 Dir(s)  116,231,868,416 bytes free\n"
     ]
    }
   ],
   "source": [
    "!dir .\\"
   ]
  },
  {
   "cell_type": "code",
   "execution_count": 2,
   "id": "b00ec979",
   "metadata": {},
   "outputs": [],
   "source": [
    "# Importing necessary libraries\n",
    "import pandas as pd\n",
    "import numpy as np\n",
    "from sklearn.model_selection import train_test_split\n",
    "from sklearn.ensemble import RandomForestClassifier\n",
    "from sklearn.metrics import accuracy_score\n",
    "import matplotlib.pyplot as plt"
   ]
  },
  {
   "cell_type": "code",
   "execution_count": 3,
   "id": "702510e1",
   "metadata": {},
   "outputs": [],
   "source": [
    "train = pd.read_csv(\"./train.csv\")\n",
    "valid = pd.read_csv(\"./valid.csv\")"
   ]
  },
  {
   "cell_type": "code",
   "execution_count": 4,
   "id": "64c46b2f",
   "metadata": {},
   "outputs": [],
   "source": [
    "# drop label_2, label_3 and label_4\n",
    "dropping_labels = [\"label_2\",\"label_3\", \"label_4\"]\n",
    "train.drop(dropping_labels, axis=1, inplace= True)\n",
    "valid.drop(dropping_labels, axis=1, inplace= True)"
   ]
  },
  {
   "cell_type": "code",
   "execution_count": 5,
   "id": "4485a0bf",
   "metadata": {},
   "outputs": [
    {
     "data": {
      "text/plain": [
       "Index([], dtype='object')"
      ]
     },
     "execution_count": 5,
     "metadata": {},
     "output_type": "execute_result"
    }
   ],
   "source": [
    "# check whether any missing values in the train set\n",
    "train.columns[train.isnull().any()]"
   ]
  },
  {
   "cell_type": "code",
   "execution_count": 6,
   "id": "fd1c9e3e",
   "metadata": {},
   "outputs": [],
   "source": [
    "# splitting features and the label\n",
    "x_train = train.drop([\"label_1\"], axis=1)\n",
    "y_train = train[\"label_1\"]\n",
    "x_valid = valid.drop([\"label_1\"], axis=1)\n",
    "y_valid = valid[\"label_1\"]"
   ]
  },
  {
   "cell_type": "code",
   "execution_count": 10,
   "id": "1a401e69",
   "metadata": {},
   "outputs": [
    {
     "name": "stdout",
     "output_type": "stream",
     "text": [
      "Accuracy: 0.9733333333333334\n"
     ]
    }
   ],
   "source": [
    "# Import necessary libraries\n",
    "from sklearn import svm\n",
    "from sklearn.metrics import accuracy_score\n",
    "\n",
    "# Create an SVM classifier\n",
    "clf = svm.SVC(kernel='linear', C=1.9)\n",
    "\n",
    "# Train the SVM classifier on the training data\n",
    "clf.fit(x_train, y_train)\\\n",
    "\n",
    "# Make predictions on the test data\n",
    "y_pred = clf.predict(x_valid)\n",
    "\n",
    "# Calculate the accuracy of the model\n",
    "accuracy = accuracy_score(y_valid, y_pred)\n",
    "print(\"Accuracy:\", accuracy)"
   ]
  },
  {
   "cell_type": "code",
   "execution_count": 12,
   "id": "a90921fd",
   "metadata": {},
   "outputs": [
    {
     "name": "stdout",
     "output_type": "stream",
     "text": [
      "Accuracy: 0.9733333333333334\n"
     ]
    }
   ],
   "source": [
    "# Import necessary libraries\n",
    "from sklearn import svm\n",
    "from sklearn.metrics import accuracy_score\n",
    "\n",
    "# Create an SVM classifier\n",
    "clf = svm.SVC(kernel='linear', C=2.0)\n",
    "\n",
    "# Train the SVM classifier on the training data\n",
    "clf.fit(x_train, y_train)\\\n",
    "\n",
    "# Make predictions on the test data\n",
    "y_pred = clf.predict(x_valid)\n",
    "\n",
    "# Calculate the accuracy of the model\n",
    "accuracy = accuracy_score(y_valid, y_pred)\n",
    "print(\"Accuracy:\", accuracy)"
   ]
  },
  {
   "cell_type": "code",
   "execution_count": 13,
   "id": "769e2306",
   "metadata": {},
   "outputs": [
    {
     "name": "stdout",
     "output_type": "stream",
     "text": [
      "Minimum variance found is:  0.0015264596522753114\n"
     ]
    }
   ],
   "source": [
    "# check for minimum variance\n",
    "print(\"Minimum variance found is: \",x_train.describe().loc['std'].min()**2)"
   ]
  },
  {
   "cell_type": "code",
   "execution_count": 14,
   "id": "d6fb20d0",
   "metadata": {},
   "outputs": [
    {
     "data": {
      "text/plain": [
       "feature_1      0.048122\n",
       "feature_2      0.047099\n",
       "feature_3      0.059531\n",
       "feature_4      0.056354\n",
       "feature_5      0.062569\n",
       "                 ...   \n",
       "feature_764    0.055990\n",
       "feature_765    0.055413\n",
       "feature_766    0.082085\n",
       "feature_767    0.070793\n",
       "feature_768    0.059617\n",
       "Name: std, Length: 768, dtype: float64"
      ]
     },
     "execution_count": 14,
     "metadata": {},
     "output_type": "execute_result"
    }
   ],
   "source": [
    "x_train.describe().loc[\"std\"]"
   ]
  },
  {
   "cell_type": "code",
   "execution_count": 15,
   "id": "41b95b5a",
   "metadata": {},
   "outputs": [],
   "source": [
    "def variance_treshould_invf(X):\n",
    "    should_drop = []\n",
    "    stds = X.describe().loc[\"std\"]\n",
    "    max_variance = max(stds)**2\n",
    "    for i in range(0, len(stds)):\n",
    "        if (stds[i]**2)< (0.002):\n",
    "            should_drop.append(f\"feature_{i+1}\")\n",
    "    return should_drop\n",
    "        "
   ]
  },
  {
   "cell_type": "code",
   "execution_count": 16,
   "id": "f0eae3fa",
   "metadata": {},
   "outputs": [
    {
     "data": {
      "text/plain": [
       "12"
      ]
     },
     "execution_count": 16,
     "metadata": {},
     "output_type": "execute_result"
    }
   ],
   "source": [
    "should_drop = variance_treshould_invf(x_train)\n",
    "len(should_drop)"
   ]
  },
  {
   "cell_type": "code",
   "execution_count": 17,
   "id": "c8f57e64",
   "metadata": {},
   "outputs": [],
   "source": [
    "vx_train = x_train.drop(columns=should_drop,axis=1)\n",
    "vx_valid = x_valid.drop(columns=should_drop,axis=1)"
   ]
  },
  {
   "cell_type": "code",
   "execution_count": 18,
   "id": "a02e75dd",
   "metadata": {},
   "outputs": [
    {
     "name": "stdout",
     "output_type": "stream",
     "text": [
      "Accuracy: 0.9693333333333334\n"
     ]
    }
   ],
   "source": [
    "# Import necessary libraries\n",
    "from sklearn import svm\n",
    "from sklearn.metrics import accuracy_score\n",
    "\n",
    "# Create an SVM classifier\n",
    "clf = svm.SVC(kernel='linear', C=2.0)\n",
    "\n",
    "# Train the SVM classifier on the training data\n",
    "clf.fit(vx_train, y_train)\\\n",
    "\n",
    "# Make predictions on the test data\n",
    "y_pred = clf.predict(vx_valid)\n",
    "\n",
    "# Calculate the accuracy of the model\n",
    "accuracy = accuracy_score(y_valid, y_pred)\n",
    "print(\"Accuracy:\", accuracy)"
   ]
  },
  {
   "cell_type": "code",
   "execution_count": 19,
   "id": "eb0971a4",
   "metadata": {},
   "outputs": [],
   "source": [
    "# The bellow function returns all the co-related features\n",
    "def correlation(dataset, threshold):\n",
    "  col_corr = set()\n",
    "  corr_matrix = dataset.corr()\n",
    "  for i in range(len(corr_matrix.columns)):\n",
    "    for j in range(i):\n",
    "      if abs(corr_matrix.iloc[i,j])>= threshold:\n",
    "        colname = corr_matrix.columns[i]\n",
    "        col_corr.add(colname)\n",
    "  return col_corr"
   ]
  },
  {
   "cell_type": "code",
   "execution_count": 20,
   "id": "50f02956",
   "metadata": {},
   "outputs": [
    {
     "data": {
      "text/plain": [
       "{'feature_366', 'feature_609'}"
      ]
     },
     "execution_count": 20,
     "metadata": {},
     "output_type": "execute_result"
    }
   ],
   "source": [
    "correlation(vx_train, 0.85)"
   ]
  },
  {
   "cell_type": "code",
   "execution_count": 21,
   "id": "3b74536e",
   "metadata": {},
   "outputs": [],
   "source": [
    "cvx_train = vx_train.drop(columns={'feature_366', 'feature_609'}, axis=1)\n",
    "cvx_valid = vx_valid.drop(columns={'feature_366', 'feature_609'}, axis=1)"
   ]
  },
  {
   "cell_type": "code",
   "execution_count": 22,
   "id": "b35cfcd6",
   "metadata": {},
   "outputs": [
    {
     "name": "stdout",
     "output_type": "stream",
     "text": [
      "Accuracy: 0.9693333333333334\n"
     ]
    }
   ],
   "source": [
    "# Import necessary libraries\n",
    "from sklearn import svm\n",
    "from sklearn.metrics import accuracy_score\n",
    "\n",
    "# Create an SVM classifier\n",
    "clf = svm.SVC(kernel='linear', C=2.0)\n",
    "\n",
    "# Train the SVM classifier on the training data\n",
    "clf.fit(cvx_train, y_train)\\\n",
    "\n",
    "# Make predictions on the test data\n",
    "y_pred = clf.predict(cvx_valid)\n",
    "\n",
    "# Calculate the accuracy of the model\n",
    "accuracy = accuracy_score(y_valid, y_pred)\n",
    "print(\"Accuracy:\", accuracy)"
   ]
  },
  {
   "cell_type": "code",
   "execution_count": 23,
   "id": "1e6d531a",
   "metadata": {},
   "outputs": [],
   "source": [
    "# define the scaler\n",
    "from sklearn.preprocessing import StandardScaler\n",
    "scaler = StandardScaler()\n",
    "\n",
    "# fit the scaler\n",
    "scvx_train = pd.DataFrame(scaler.fit_transform(cvx_train), columns=cvx_train.columns)\n",
    "scvx_valid = pd.DataFrame(scaler.transform(cvx_valid), columns=cvx_valid.columns)"
   ]
  },
  {
   "cell_type": "code",
   "execution_count": 24,
   "id": "6ba3deee",
   "metadata": {},
   "outputs": [
    {
     "data": {
      "image/png": "[encoded data removed]",
      "text/plain": [
       "<Figure size 800x600 with 1 Axes>"
      ]
     },
     "metadata": {},
     "output_type": "display_data"
    }
   ],
   "source": [
    "label_counts = train['label_1'].value_counts()\n",
    "tot_records = len(train)\n",
    "percentages = {}\n",
    "for index, count in label_counts.items():\n",
    "  percentages[index] = (count/tot_records)*100\n",
    "\n",
    "lbls = []\n",
    "ptages = []\n",
    "for key, value in sorted(percentages.items()):\n",
    "  lbls.append(key)\n",
    "  ptages.append(value)\n",
    "\n",
    "# Create a scatter plot\n",
    "plt.figure(figsize=(8, 6))  # Set the figure size (width, height)\n",
    "\n",
    "plt.scatter(lbls, ptages, color='blue', marker='o', label='Data Points')  # Create scatter plot\n",
    "plt.title('Presentages of records vs labels')  # Set the title of the plot\n",
    "plt.xlabel('Labels')  # Set the label for the x-axis\n",
    "plt.ylabel('Percentage')  # Set the label for the y-axis\n",
    "\n",
    "plt.show()  # Display the plot"
   ]
  },
  {
   "cell_type": "code",
   "execution_count": 25,
   "id": "fe86be1e",
   "metadata": {},
   "outputs": [
    {
     "name": "stdout",
     "output_type": "stream",
     "text": [
      "Accuracy: 0.9573333333333334\n"
     ]
    }
   ],
   "source": [
    "# Import necessary libraries\n",
    "from sklearn import svm\n",
    "from sklearn.metrics import accuracy_score\n",
    "\n",
    "# Create an SVM classifier\n",
    "clf = svm.SVC(kernel='linear', C=2.0)\n",
    "\n",
    "# Train the SVM classifier on the training data\n",
    "clf.fit(scvx_train, y_train)\n",
    "\n",
    "# Make predictions on the test data\n",
    "y_pred = clf.predict(scvx_valid)\n",
    "\n",
    "# Calculate the accuracy of the model\n",
    "accuracy = accuracy_score(y_valid, y_pred)\n",
    "print(\"Accuracy:\", accuracy)"
   ]
  },
  {
   "cell_type": "code",
   "execution_count": 31,
   "id": "6931b509",
   "metadata": {},
   "outputs": [
    {
     "ename": "TypeError",
     "evalue": "PCA.__init__() got an unexpected keyword argument 'variance_treshould_invf'",
     "output_type": "error",
     "traceback": [
      "\u001b[1;31m---------------------------------------------------------------------------\u001b[0m",
      "\u001b[1;31mTypeError\u001b[0m                                 Traceback (most recent call last)",
      "Cell \u001b[1;32mIn[31], line 3\u001b[0m\n\u001b[0;32m      1\u001b[0m \u001b[38;5;66;03m# define the pca\u001b[39;00m\n\u001b[0;32m      2\u001b[0m \u001b[38;5;28;01mfrom\u001b[39;00m \u001b[38;5;21;01msklearn\u001b[39;00m\u001b[38;5;21;01m.\u001b[39;00m\u001b[38;5;21;01mdecomposition\u001b[39;00m \u001b[38;5;28;01mimport\u001b[39;00m PCA\n\u001b[1;32m----> 3\u001b[0m pca \u001b[38;5;241m=\u001b[39m \u001b[43mPCA\u001b[49m\u001b[43m(\u001b[49m\u001b[43mvariance_treshould_invf\u001b[49m\u001b[38;5;241;43m=\u001b[39;49m\u001b[38;5;241;43m0.97\u001b[39;49m\u001b[43m,\u001b[49m\u001b[43m \u001b[49m\u001b[43msvd_solver\u001b[49m\u001b[38;5;241;43m=\u001b[39;49m\u001b[38;5;124;43m\"\u001b[39;49m\u001b[38;5;124;43mfull\u001b[39;49m\u001b[38;5;124;43m\"\u001b[39;49m\u001b[43m)\u001b[49m\n\u001b[0;32m      5\u001b[0m pscvx_train \u001b[38;5;241m=\u001b[39m pca\u001b[38;5;241m.\u001b[39mfit_transform(scvx_train)\n\u001b[0;32m      6\u001b[0m pscvx_valid \u001b[38;5;241m=\u001b[39m pca\u001b[38;5;241m.\u001b[39mtransform(scvx_valid)\n",
      "\u001b[1;31mTypeError\u001b[0m: PCA.__init__() got an unexpected keyword argument 'variance_treshould_invf'"
     ]
    }
   ],
   "source": [
    "# define the pca\n",
    "from sklearn.decomposition import PCA\n",
    "pca = PCA(, svd_solver=\"full\")\n",
    "\n",
    "pscvx_train = pca.fit_transform(scvx_train)\n",
    "pscvx_valid = pca.transform(scvx_valid)"
   ]
  },
  {
   "cell_type": "code",
   "execution_count": 27,
   "id": "3754f32c",
   "metadata": {},
   "outputs": [
    {
     "name": "stdout",
     "output_type": "stream",
     "text": [
      "Accuracy: 0.9506666666666667\n"
     ]
    }
   ],
   "source": [
    "# Import necessary libraries\n",
    "from sklearn import svm\n",
    "from sklearn.metrics import accuracy_score\n",
    "\n",
    "# Create an SVM classifier\n",
    "clf = svm.SVC(kernel='linear', C=2.0)\n",
    "\n",
    "# Train the SVM classifier on the training data\n",
    "clf.fit(pscvx_train, y_train)\n",
    "\n",
    "# Make predictions on the test data\n",
    "y_pred = clf.predict(pscvx_valid)\n",
    "\n",
    "# Calculate the accuracy of the model\n",
    "accuracy = accuracy_score(y_valid, y_pred)\n",
    "print(\"Accuracy:\", accuracy)"
   ]
  },
  {
   "cell_type": "code",
   "execution_count": 28,
   "id": "9a67da63",
   "metadata": {},
   "outputs": [],
   "source": []
  },
  {
   "cell_type": "code",
   "execution_count": 29,
   "id": "2b6471b4",
   "metadata": {},
   "outputs": [
    {
     "name": "stdout",
     "output_type": "stream",
     "text": [
      "Accuracy: 0.9506666666666667\n"
     ]
    }
   ],
   "source": [
    "# Import necessary libraries\n",
    "from sklearn import svm\n",
    "from sklearn.metrics import accuracy_score\n",
    "\n",
    "# Create an SVM classifier\n",
    "clf = svm.SVC(kernel='linear', C=2.0, class_weight=\"balanced\")\n",
    "\n",
    "# Train the SVM classifier on the training data\n",
    "clf.fit(pscvx_train, y_train)\n",
    "\n",
    "# Make predictions on the test data\n",
    "y_pred = clf.predict(pscvx_valid)\n",
    "\n",
    "# Calculate the accuracy of the model\n",
    "accuracy = accuracy_score(y_valid, y_pred)\n",
    "print(\"Accuracy:\", accuracy)"
   ]
  },
  {
   "cell_type": "code",
   "execution_count": 30,
   "id": "b10b2273",
   "metadata": {},
   "outputs": [],
   "source": [
    "clf = svm.SVC(kernel='linear', C=2.0, class_weight=\"balanced\")"
   ]
  },
  {
   "cell_type": "code",
   "execution_count": 11,
   "id": "f2f3cb9f",
   "metadata": {},
   "outputs": [],
   "source": [
    "df = pd.read_csv(\"./train.csv\")\n",
    "val = pd.read_csv(\"./valid.csv\")"
   ]
  },
  {
   "cell_type": "code",
   "execution_count": 13,
   "id": "b99530fa",
   "metadata": {},
   "outputs": [
    {
     "data": {
      "text/plain": [
       "Index(['label_2'], dtype='object')"
      ]
     },
     "execution_count": 13,
     "metadata": {},
     "output_type": "execute_result"
    }
   ],
   "source": [
    "val.columns[df.isnull().any()]"
   ]
  },
  {
   "cell_type": "markdown",
   "id": "e6d3f7fe",
   "metadata": {},
   "source": [
    "# check for minimum variance\n",
    "print(\"Minimum variance found is: \",x_train.describe().loc['std'].min()**2)"
   ]
  }
 ],
 "metadata": {
  "kernelspec": {
   "display_name": "Python 3 (ipykernel)",
   "language": "python",
   "name": "python3"
  },
  "language_info": {
   "codemirror_mode": {
    "name": "ipython",
    "version": 3
   },
   "file_extension": ".py",
   "mimetype": "text/x-python",
   "name": "python",
   "nbconvert_exporter": "python",
   "pygments_lexer": "ipython3",
   "version": "3.10.9"
  }
 },
 "nbformat": 4,
 "nbformat_minor": 5
}
